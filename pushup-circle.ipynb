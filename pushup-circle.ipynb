{
 "cells": [
  {
   "cell_type": "markdown",
   "metadata": {},
   "source": [
    "# Pushup Circle\n",
    "## Part 1: The Pushup Circle\n",
    "### Section 1: Problem statement\n",
    "Suppose $n$ friends are in a circle. At time $0$ one friend does one pushup. At time $t \\in \\mathbb{N}$ each friend does one pushup if exactly one of their immediate neighbors did a pushup at time $t - 1$. Otherwise, they do not do any pushups. Let $C_n(t)$ be the number of pushups done at time $t$, and let $P(n) = \\sum_{t=0}^\\infty C_n(t)$ be the total number of pushups (possibly infinity) done with a group of $n$ friends.\n",
    "\n",
    "For what values of $n$ is $P(n) < \\infty$?"
   ]
  },
  {
   "cell_type": "markdown",
   "metadata": {},
   "source": [
    "### Section 2: Some useful functions"
   ]
  },
  {
   "cell_type": "code",
   "execution_count": 1,
   "metadata": {},
   "outputs": [
    {
     "name": "stdout",
     "output_type": "stream",
     "text": [
      "1011010\n",
      "0101101\n",
      "1110111\n",
      "1010101\n"
     ]
    },
    {
     "data": {
      "text/plain": [
       "4"
      ]
     },
     "execution_count": 1,
     "metadata": {},
     "output_type": "execute_result"
    }
   ],
   "source": [
    "# rotate the bits of an integer, N is the bit length of an integer\n",
    "def bit_rotate_right(N, number, shift):\n",
    "    return (2 ** N - 1) & (number >> shift | number << (N-shift))\n",
    "\n",
    "def bit_rotate_left(N, number, shift):\n",
    "    return bit_rotate_right(N, number, N - shift)\n",
    "\n",
    "def count_ones(N, number):\n",
    "    return number.bit_count()\n",
    "\n",
    "def xor(N, a, b):\n",
    "    return a ^ b\n",
    "\n",
    "def print_bits(N, number, as_blocks=False):\n",
    "    string = bin(number)[2:].zfill(N)\n",
    "    if as_blocks:\n",
    "        print(string.replace('0', ' ').replace('1', '■'))\n",
    "    else:\n",
    "        print(string)\n",
    "\n",
    "N = 7\n",
    "num = 0b1011010\n",
    "print_bits(N, num)\n",
    "print_bits(N, bit_rotate_right(N, num, 1))\n",
    "print_bits(N, xor(N, num, bit_rotate_right(N, num, 1)))\n",
    "print_bits(N, bit_rotate_left(N, num, 3))\n",
    "count_ones(N, num)"
   ]
  },
  {
   "cell_type": "markdown",
   "metadata": {},
   "source": [
    "### Section 3: The simulation logic"
   ]
  },
  {
   "cell_type": "code",
   "execution_count": 2,
   "metadata": {},
   "outputs": [
    {
     "name": "stdout",
     "output_type": "stream",
     "text": [
      "0000000001\n",
      "1000000010\n",
      "0100000100\n",
      "1010001010\n",
      "0001010000\n",
      "0010001000\n",
      "0101010100\n",
      "1000000010\n",
      "(N=10) Repeated at iteration 8 with 19 pushups\n",
      "\tIterations 2 and 8 are the same\n"
     ]
    }
   ],
   "source": [
    "class Pushups:\n",
    "    def __init__(self, N, initial_state):\n",
    "        # number of friends doing pushups\n",
    "        self.N = N\n",
    "        # bit representation of the initial state\n",
    "        self.number = initial_state\n",
    "        self.total_pushups = count_ones(N, initial_state)\n",
    "        self.iterations = 1\n",
    "\n",
    "        # track if we hit 0 pushups in an iteration\n",
    "        self.terminated = False\n",
    "        # track the two iterations where we repeat\n",
    "        self.repeated = None\n",
    "\n",
    "    def iterate(self):\n",
    "        right = bit_rotate_right(self.N, self.number, 1)\n",
    "        left = bit_rotate_left(self.N, self.number, 1)\n",
    "        self.number = xor(self.N, right, left)\n",
    "        self.total_pushups += count_ones(self.N, self.number)\n",
    "        self.iterations += 1\n",
    "\n",
    "    def print(self, as_blocks=True):\n",
    "        print_bits(self.N, self.number, as_blocks=as_blocks)\n",
    "\n",
    "    def print_iters(self, iters):\n",
    "        for _ in range(iters):\n",
    "            self.print()\n",
    "            self.iterate()\n",
    "        self.print()\n",
    "\n",
    "    # TODO: add max_iters\n",
    "    def iterate_until_repeat(self, print_output=False, as_blocks=True):\n",
    "        seen = dict()\n",
    "        while self.number not in seen:\n",
    "            if print_output:\n",
    "                self.print(as_blocks=as_blocks)\n",
    "            seen[self.number] = self.iterations\n",
    "            self.iterate()\n",
    "        if print_output:\n",
    "            self.print(as_blocks=as_blocks)\n",
    "        \n",
    "        self.repeated = (seen[self.number], self.iterations)\n",
    "        self.terminated = (self.number == 0)\n",
    "        self.summary()\n",
    "\n",
    "    def summary(self):\n",
    "        if self.repeated is not None:\n",
    "            if self.terminated:\n",
    "                print(f'(N={self.N}) Terminated at iteration {self.iterations - 1} with {self.total_pushups} pushups')\n",
    "            else:\n",
    "                print(f'(N={self.N}) Repeated at iteration {self.iterations} with {self.total_pushups} pushups')\n",
    "                print(f'\\tIterations {self.repeated[0]} and {self.repeated[1]} are the same')\n",
    "\n",
    "        else:\n",
    "            print(f'(N={self.N}) No termination or repeat after {self.iterations} iterations and {self.total_pushups} pushups')\n",
    "\n",
    "pushups = Pushups(10, 0b1)\n",
    "pushups.iterate_until_repeat(print_output=True, as_blocks=False)"
   ]
  },
  {
   "cell_type": "markdown",
   "metadata": {},
   "source": [
    "### Section 4: Trying it out"
   ]
  },
  {
   "cell_type": "code",
   "execution_count": 3,
   "metadata": {},
   "outputs": [
    {
     "name": "stdout",
     "output_type": "stream",
     "text": [
      "(N=1) Terminated at iteration 2 with 1 pushups\n",
      "(N=2) Terminated at iteration 2 with 1 pushups\n",
      "(N=3) Repeated at iteration 3 with 5 pushups\n",
      "\tIterations 2 and 3 are the same\n",
      "(N=4) Terminated at iteration 3 with 3 pushups\n",
      "(N=5) Repeated at iteration 5 with 11 pushups\n",
      "\tIterations 2 and 5 are the same\n",
      "(N=6) Repeated at iteration 4 with 7 pushups\n",
      "\tIterations 2 and 4 are the same\n",
      "(N=7) Repeated at iteration 9 with 27 pushups\n",
      "\tIterations 2 and 9 are the same\n",
      "(N=8) Terminated at iteration 5 with 9 pushups\n",
      "(N=9) Repeated at iteration 9 with 29 pushups\n",
      "\tIterations 2 and 9 are the same\n",
      "(N=10) Repeated at iteration 8 with 19 pushups\n",
      "\tIterations 2 and 8 are the same\n",
      "(N=11) Repeated at iteration 33 with 163 pushups\n",
      "\tIterations 2 and 33 are the same\n",
      "(N=12) Repeated at iteration 7 with 17 pushups\n",
      "\tIterations 3 and 7 are the same\n",
      "(N=13) Repeated at iteration 65 with 387 pushups\n",
      "\tIterations 2 and 65 are the same\n",
      "(N=14) Repeated at iteration 16 with 51 pushups\n",
      "\tIterations 2 and 16 are the same\n",
      "(N=15) Repeated at iteration 17 with 81 pushups\n",
      "\tIterations 2 and 17 are the same\n",
      "(N=16) Terminated at iteration 9 with 27 pushups\n",
      "(N=17) Repeated at iteration 17 with 83 pushups\n",
      "\tIterations 2 and 17 are the same\n",
      "(N=18) Repeated at iteration 16 with 55 pushups\n",
      "\tIterations 2 and 16 are the same\n",
      "(N=19) Repeated at iteration 513 with 4611 pushups\n",
      "\tIterations 2 and 513 are the same\n",
      "(N=20) Repeated at iteration 15 with 53 pushups\n",
      "\tIterations 3 and 15 are the same\n",
      "(N=21) Repeated at iteration 65 with 509 pushups\n",
      "\tIterations 2 and 65 are the same\n",
      "(N=22) Repeated at iteration 64 with 323 pushups\n",
      "\tIterations 2 and 64 are the same\n",
      "(N=23) Repeated at iteration 2049 with 22531 pushups\n",
      "\tIterations 2 and 2049 are the same\n",
      "(N=24) Repeated at iteration 13 with 47 pushups\n",
      "\tIterations 5 and 13 are the same\n",
      "(N=25) Repeated at iteration 1025 with 11851 pushups\n",
      "\tIterations 2 and 1025 are the same\n",
      "(N=26) Repeated at iteration 128 with 771 pushups\n",
      "\tIterations 2 and 128 are the same\n",
      "(N=27) Repeated at iteration 513 with 6209 pushups\n",
      "\tIterations 2 and 513 are the same\n",
      "(N=28) Repeated at iteration 31 with 149 pushups\n",
      "\tIterations 3 and 31 are the same\n",
      "(N=29) Repeated at iteration 16385 with 229379 pushups\n",
      "\tIterations 2 and 16385 are the same\n",
      "(N=30) Repeated at iteration 32 with 159 pushups\n",
      "\tIterations 2 and 32 are the same\n",
      "(N=31) Repeated at iteration 33 with 243 pushups\n",
      "\tIterations 2 and 33 are the same\n",
      "(N=32) Terminated at iteration 17 with 81 pushups\n"
     ]
    }
   ],
   "source": [
    "for N in range(1, 33):\n",
    "    pushups = Pushups(N, 0b1)\n",
    "    pushups.iterate_until_repeat(print_output=False)"
   ]
  },
  {
   "cell_type": "markdown",
   "metadata": {},
   "source": [
    "### Section 5: Notice a pattern?\n",
    "Here are the the cases that terminated: 1, 2, 4, 8, 16, 32\n",
    "\n",
    "It may not be surprising that the powers of two all terminate, but it is interesting that they're the *only* ones that terminate."
   ]
  },
  {
   "cell_type": "code",
   "execution_count": null,
   "metadata": {},
   "outputs": [],
   "source": []
  },
  {
   "cell_type": "markdown",
   "metadata": {},
   "source": [
    "## Part 2: Wait what?\n",
    "### Section 1: WTF???\n",
    "Let's visualize the output of the terminating case $N=64$."
   ]
  },
  {
   "cell_type": "code",
   "execution_count": 4,
   "metadata": {},
   "outputs": [
    {
     "name": "stdout",
     "output_type": "stream",
     "text": [
      "0000000000000000000000000000000100000000000000000000000000000000\n",
      "0000000000000000000000000000001010000000000000000000000000000000\n",
      "0000000000000000000000000000010001000000000000000000000000000000\n",
      "0000000000000000000000000000101010100000000000000000000000000000\n",
      "0000000000000000000000000001000000010000000000000000000000000000\n",
      "0000000000000000000000000010100000101000000000000000000000000000\n",
      "0000000000000000000000000100010001000100000000000000000000000000\n",
      "0000000000000000000000001010101010101010000000000000000000000000\n",
      "0000000000000000000000010000000000000001000000000000000000000000\n",
      "0000000000000000000000101000000000000010100000000000000000000000\n",
      "0000000000000000000001000100000000000100010000000000000000000000\n",
      "0000000000000000000010101010000000001010101000000000000000000000\n",
      "0000000000000000000100000001000000010000000100000000000000000000\n",
      "0000000000000000001010000010100000101000001010000000000000000000\n",
      "0000000000000000010001000100010001000100010001000000000000000000\n",
      "0000000000000000101010101010101010101010101010100000000000000000\n",
      "0000000000000001000000000000000000000000000000010000000000000000\n",
      "0000000000000010100000000000000000000000000000101000000000000000\n",
      "0000000000000100010000000000000000000000000001000100000000000000\n",
      "0000000000001010101000000000000000000000000010101010000000000000\n",
      "0000000000010000000100000000000000000000000100000001000000000000\n",
      "0000000000101000001010000000000000000000001010000010100000000000\n",
      "0000000001000100010001000000000000000000010001000100010000000000\n",
      "0000000010101010101010100000000000000000101010101010101000000000\n",
      "0000000100000000000000010000000000000001000000000000000100000000\n",
      "0000001010000000000000101000000000000010100000000000001010000000\n",
      "0000010001000000000001000100000000000100010000000000010001000000\n",
      "0000101010100000000010101010000000001010101000000000101010100000\n",
      "0001000000010000000100000001000000010000000100000001000000010000\n",
      "0010100000101000001010000010100000101000001010000010100000101000\n",
      "0100010001000100010001000100010001000100010001000100010001000100\n",
      "1010101010101010101010101010101010101010101010101010101010101010\n",
      "0000000000000000000000000000000000000000000000000000000000000000\n",
      "0000000000000000000000000000000000000000000000000000000000000000\n",
      "(N=64) Terminated at iteration 33 with 243 pushups\n"
     ]
    }
   ],
   "source": [
    "pushups = Pushups(64, 1 << 32)\n",
    "pushups.iterate_until_repeat(print_output=True, as_blocks=False)"
   ]
  },
  {
   "cell_type": "markdown",
   "metadata": {},
   "source": [
    "Do you see it? Let's make it a little more obvious. We'll turn the 1's into filled-in blocks and the 0's into empty space."
   ]
  },
  {
   "cell_type": "code",
   "execution_count": 5,
   "metadata": {},
   "outputs": [
    {
     "name": "stdout",
     "output_type": "stream",
     "text": [
      "                               ■                                \n",
      "                              ■ ■                               \n",
      "                             ■   ■                              \n",
      "                            ■ ■ ■ ■                             \n",
      "                           ■       ■                            \n",
      "                          ■ ■     ■ ■                           \n",
      "                         ■   ■   ■   ■                          \n",
      "                        ■ ■ ■ ■ ■ ■ ■ ■                         \n",
      "                       ■               ■                        \n",
      "                      ■ ■             ■ ■                       \n",
      "                     ■   ■           ■   ■                      \n",
      "                    ■ ■ ■ ■         ■ ■ ■ ■                     \n",
      "                   ■       ■       ■       ■                    \n",
      "                  ■ ■     ■ ■     ■ ■     ■ ■                   \n",
      "                 ■   ■   ■   ■   ■   ■   ■   ■                  \n",
      "                ■ ■ ■ ■ ■ ■ ■ ■ ■ ■ ■ ■ ■ ■ ■ ■                 \n",
      "               ■                               ■                \n",
      "              ■ ■                             ■ ■               \n",
      "             ■   ■                           ■   ■              \n",
      "            ■ ■ ■ ■                         ■ ■ ■ ■             \n",
      "           ■       ■                       ■       ■            \n",
      "          ■ ■     ■ ■                     ■ ■     ■ ■           \n",
      "         ■   ■   ■   ■                   ■   ■   ■   ■          \n",
      "        ■ ■ ■ ■ ■ ■ ■ ■                 ■ ■ ■ ■ ■ ■ ■ ■         \n",
      "       ■               ■               ■               ■        \n",
      "      ■ ■             ■ ■             ■ ■             ■ ■       \n",
      "     ■   ■           ■   ■           ■   ■           ■   ■      \n",
      "    ■ ■ ■ ■         ■ ■ ■ ■         ■ ■ ■ ■         ■ ■ ■ ■     \n",
      "   ■       ■       ■       ■       ■       ■       ■       ■    \n",
      "  ■ ■     ■ ■     ■ ■     ■ ■     ■ ■     ■ ■     ■ ■     ■ ■   \n",
      " ■   ■   ■   ■   ■   ■   ■   ■   ■   ■   ■   ■   ■   ■   ■   ■  \n",
      "■ ■ ■ ■ ■ ■ ■ ■ ■ ■ ■ ■ ■ ■ ■ ■ ■ ■ ■ ■ ■ ■ ■ ■ ■ ■ ■ ■ ■ ■ ■ ■ \n",
      "                                                                \n",
      "                                                                \n",
      "(N=64) Terminated at iteration 33 with 243 pushups\n"
     ]
    }
   ],
   "source": [
    "pushups = Pushups(64, 1 << 32)\n",
    "pushups.iterate_until_repeat(print_output=True, as_blocks=True)"
   ]
  },
  {
   "cell_type": "markdown",
   "metadata": {},
   "source": [
    "### Section 2: The Sierpiński Triangle\n",
    "Yes, you're seeing that right. That's the famous triangle. My mind was blown when I saw this."
   ]
  }
 ],
 "metadata": {
  "kernelspec": {
   "display_name": "Python 3.10.2 64-bit",
   "language": "python",
   "name": "python3"
  },
  "language_info": {
   "codemirror_mode": {
    "name": "ipython",
    "version": 3
   },
   "file_extension": ".py",
   "mimetype": "text/x-python",
   "name": "python",
   "nbconvert_exporter": "python",
   "pygments_lexer": "ipython3",
   "version": "3.10.2"
  },
  "orig_nbformat": 4,
  "vscode": {
   "interpreter": {
    "hash": "97cc609b13305c559618ec78a438abc56230b9381f827f22d070313b9a1f3777"
   }
  }
 },
 "nbformat": 4,
 "nbformat_minor": 2
}
